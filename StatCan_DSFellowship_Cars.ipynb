{
  "nbformat": 4,
  "nbformat_minor": 0,
  "metadata": {
    "colab": {
      "provenance": [],
      "authorship_tag": "ABX9TyNUSUuqerG/zNQsFaNXjXtQ"
    },
    "kernelspec": {
      "name": "python3",
      "display_name": "Python 3"
    },
    "language_info": {
      "name": "python"
    },
    "accelerator": "GPU",
    "gpuClass": "standard"
  },
  "cells": [
    {
      "cell_type": "markdown",
      "source": [
        "# Statistic Canada - Data Science Fellowship Exam"
      ],
      "metadata": {
        "id": "fJZq-ObvubNU"
      }
    },
    {
      "cell_type": "markdown",
      "source": [
        "Loading dependencies"
      ],
      "metadata": {
        "id": "NnEg2XTd2_wL"
      }
    },
    {
      "cell_type": "code",
      "execution_count": null,
      "metadata": {
        "id": "IECpYF2BuGp3"
      },
      "outputs": [],
      "source": [
        "# System and IO libraries\n",
        "import os\n",
        "import scipy.io as sio\n",
        "\n",
        "# CV libraries\n",
        "import cv2\n",
        "import PIL\n",
        "\n",
        "# ML libraries\n",
        "import numpy as np\n",
        "import scipy\n",
        "import sklearn\n",
        "import torch\n",
        "import torchvision\n",
        "import random"
      ]
    },
    {
      "cell_type": "markdown",
      "source": [
        "Initialize seed for reproducibility"
      ],
      "metadata": {
        "id": "NNUAEOQ73CnD"
      }
    },
    {
      "cell_type": "code",
      "source": [
        "random.seed(1234)"
      ],
      "metadata": {
        "id": "HbpIAF5w3Fnw"
      },
      "execution_count": null,
      "outputs": []
    },
    {
      "cell_type": "markdown",
      "source": [
        "## Data collection and preprocessing"
      ],
      "metadata": {
        "id": "pZrCMGqkxlX3"
      }
    },
    {
      "cell_type": "markdown",
      "source": [
        "We can use bash commands to download and unzip the data for more convenience and to avoid memory issues when downloading large files using python requests library"
      ],
      "metadata": {
        "id": "rvxq2kOE40Ri"
      }
    },
    {
      "cell_type": "code",
      "source": [
        "!wget http://ai.stanford.edu/~jkrause/car196/car_ims.tgz\n",
        "!wget http://ai.stanford.edu/~jkrause/car196/cars_annos.mat\n",
        "!tar -zxvf car_ims.tgz;"
      ],
      "metadata": {
        "id": "w4o1vCq6xgft"
      },
      "execution_count": null,
      "outputs": []
    },
    {
      "cell_type": "markdown",
      "source": [
        "The label file is a matlab file. A quick google search shows that we can use scipy to load it."
      ],
      "metadata": {
        "id": "m4D9xpL36JTB"
      }
    },
    {
      "cell_type": "code",
      "source": [
        "cars_annos = sio.loadmat(\"cars_annos.mat\", squeeze_me = True)"
      ],
      "metadata": {
        "id": "GCGd5bLGyEYc"
      },
      "execution_count": null,
      "outputs": []
    },
    {
      "cell_type": "markdown",
      "source": [
        "As we will be focusing only on classification and will be creating custom train test splits. We will only need the relative_im_paths and class labels."
      ],
      "metadata": {
        "id": "CSsv6j4huDKO"
      }
    },
    {
      "cell_type": "code",
      "source": [
        "cars_annotations = {'img_paths': list(cars_annos['annotations']['relative_im_path']),\n",
        "                     'labels': list(cars_annos['annotations']['class'])}"
      ],
      "metadata": {
        "id": "dZzKk3XWyuT6"
      },
      "execution_count": null,
      "outputs": []
    },
    {
      "cell_type": "markdown",
      "source": [
        "## Task 1: Mask labelled dataset"
      ],
      "metadata": {
        "id": "1D-WN-aLIXDf"
      }
    },
    {
      "cell_type": "code",
      "source": [
        "def label_masker(dataset_labels, proportion):\n",
        "  ''' \n",
        "  Takes a list of dataset labels (int) and a proportion that needs to \n",
        "  be masked. Returns a dictionary of the orginal list, the masked list \n",
        "  and the masked indices.\n",
        "\n",
        "  Masked labels take the value -1\n",
        "  '''\n",
        "\n",
        "  mask_value = -1\n",
        "  unique_labels = set(dataset_labels)\n",
        "  masked_labels = dataset_labels.copy()\n",
        "\n",
        "  for i in unique_labels:\n",
        "    indices = np.where(np.array(dataset_labels) == i)[0]\n",
        "    mask_indices = random.sample(list(indices), int(len(indices)*proportion))\n",
        "\n",
        "    if len(mask_indices) == len(indices):\n",
        "      raise ValueError('Proportion too high: all classes need to have at ' \n",
        "      'least 1 instance labelled')\n",
        "\n",
        "    for i in mask_indices:\n",
        "      masked_labels[i] = mask_value\n",
        "\n",
        "    masked_indices = list(np.where(np.array(masked_labels) == mask_value)[0])\n",
        "  \n",
        "  return {'original_labels':dataset_labels,\n",
        "          'masked_labels': masked_labels,\n",
        "          'masked_indices': masked_indices}"
      ],
      "metadata": {
        "id": "o22k3a1JAAgk"
      },
      "execution_count": null,
      "outputs": []
    },
    {
      "cell_type": "markdown",
      "source": [
        "## Task 2: Data cleaning"
      ],
      "metadata": {
        "id": "2UCfjjE1XzwI"
      }
    },
    {
      "cell_type": "code",
      "source": [
        "from PIL import Image"
      ],
      "metadata": {
        "id": "nqqP83sj-PS1"
      },
      "execution_count": null,
      "outputs": []
    },
    {
      "cell_type": "markdown",
      "source": [
        "While it's possible to have 3-channel images that are not RGB like remote sensing images in other spectrums. I will assume that's not the case here and follow the advice in the instructions to simply remove all images that don't have exactly 3 channels."
      ],
      "metadata": {
        "id": "4OpmVRQe-Ocf"
      }
    },
    {
      "cell_type": "code",
      "source": [
        "def is_not_rgb(img_path):\n",
        "  '''helper function that checks if image at given path is RGB or not'''\n",
        "  \n",
        "  img = np.array(Image.open(img_path))\n",
        "  if len(img.shape) != 3:\n",
        "    return True\n",
        "\n",
        "  if img.shape[-1] != 3:\n",
        "    return True\n",
        "\n",
        "  return False\n",
        "\n",
        "remove_indices = []\n",
        "\n",
        "for idx, image_path in enumerate(cars_annotations['img_paths']):\n",
        "    if is_not_rgb(image_path):\n",
        "      remove_indices.append(idx)\n",
        "      os.remove(image_path)\n",
        "\n",
        "cars_annotations['img_paths'] = [path for i, path\n",
        "                                 in enumerate(cars_annotations['img_paths'])\n",
        "                                 if i not in remove_indices]\n",
        "\n",
        "cars_annotations['labels'] = [l for i, l\n",
        "                                 in enumerate(cars_annotations['labels'])\n",
        "                                 if i not in remove_indices]"
      ],
      "metadata": {
        "id": "OzBqhggqNBJy"
      },
      "execution_count": null,
      "outputs": []
    },
    {
      "cell_type": "markdown",
      "source": [
        "## Task 3: Dataset representation"
      ],
      "metadata": {
        "id": "anC5EQeWZNzE"
      }
    },
    {
      "cell_type": "markdown",
      "source": [
        "Note: In this step, iteratively loading every image and passing through the model without GPU acceleration turned out to be painfully slow (estimated to be ~1 hour using the time library). I was able to speed this up to 3 minutes by building a dataset class and using Dataloader in pytorch to perform data loading in batches as well as using GPU acceleration."
      ],
      "metadata": {
        "id": "qlmlWXZTAoo7"
      }
    },
    {
      "cell_type": "code",
      "source": [
        "from collections import defaultdict\n",
        "from torchvision import transforms\n",
        "from torch.utils.data import Dataset, DataLoader"
      ],
      "metadata": {
        "id": "QRPR6spc1bY4"
      },
      "execution_count": null,
      "outputs": []
    },
    {
      "cell_type": "code",
      "source": [
        "# GPU acceleration\n",
        "device = torch.device(\"cuda\" if torch.cuda.is_available() \n",
        "                                  else \"cpu\")"
      ],
      "metadata": {
        "id": "G2xx_Oi8ncx6"
      },
      "execution_count": null,
      "outputs": []
    },
    {
      "cell_type": "markdown",
      "source": [
        "Defining a custom map-style dataset class is needed by the pytorch dataloader.\n",
        "We will need also need to transform the images as Resnet18 requires the input to be tensors and stacking requires all images to have the same dimension. It is also ideal to normalize images before passing through embedding.\n",
        "\n",
        "Since we are perform embedding before train test split, I will be doing per image normalization (normalizing every image using the image's mean and standard deviation) and not dataset normalization (normalizing every image using the datasets mean and standard deviation) to avoid data leakage."
      ],
      "metadata": {
        "id": "N27eUorMFVZm"
      }
    },
    {
      "cell_type": "code",
      "source": [
        "class CarsDataset(Dataset):\n",
        "    \"\"\"Cars dataset.\"\"\"\n",
        "\n",
        "    def __init__(self, annotations, normalize = True):\n",
        "        \"\"\"\n",
        "        Args:\n",
        "            Annotations(dict): dictionary containing image paths and annotations.\n",
        "            transform (callable, optional): Optional transform to be applied\n",
        "                on a sample.\n",
        "        \"\"\"\n",
        "        self.image_paths = annotations['img_paths']\n",
        "        self.labels = annotations['labels']\n",
        "        self.normalize = normalize\n",
        "\n",
        "    def __len__(self):\n",
        "        return len(self.image_paths)\n",
        "\n",
        "    def __getitem__(self, idx):\n",
        "\n",
        "        img_name = self.image_paths[idx]\n",
        "        img = cv2.imread(img_name)\n",
        "        img_mean, img_std = cv2.meanStdDev(img)\n",
        "\n",
        "        img_mean_flat = [i[0] for i in img_mean]\n",
        "        img_std_flat = [i[0] for i in img_std]\n",
        "        \n",
        "        transform = transforms.Compose([transforms.ToTensor(), \n",
        "                                        transforms.Resize([224,224])])\n",
        "        image_tensor = transform(img)\n",
        "\n",
        "        label = self.labels[idx]\n",
        "        \n",
        "        if self.normalize:\n",
        "            self.norm = transforms.Normalize(mean = img_mean_flat,\n",
        "                                              std = img_std_flat)\n",
        "            image_tensor = self.norm(image_tensor)\n",
        "            \n",
        "\n",
        "        sample = (image_tensor, label, idx)\n",
        "\n",
        "        return sample"
      ],
      "metadata": {
        "id": "LpC31UOJFi0a"
      },
      "execution_count": null,
      "outputs": []
    },
    {
      "cell_type": "code",
      "source": [
        "cars_dataset = CarsDataset(annotations = cars_annotations)\n",
        "\n",
        "cars_dataloader = torch.utils.data.DataLoader(cars_dataset, batch_size=64,\n",
        "                                              num_workers = 2)"
      ],
      "metadata": {
        "id": "E5FsYcuEJu3W"
      },
      "execution_count": null,
      "outputs": []
    },
    {
      "cell_type": "markdown",
      "source": [
        "We download a pretrained resnet18 model and detaching the last layer to use the model to generate image embeddings. I would typically use resnet50 as it is the industry standard but I understand using the smaller and lighter weight resnet18 for this exercise. Alternatively, Simclr and MOCO are also good models to use for representation learning.\n",
        "\n",
        "It is also usually advised to finetune the model with the custom dataset since the default ImageNet weight don't usually provide good results out of the box. But again this is a luxury given the time constraint."
      ],
      "metadata": {
        "id": "B2BzV1aZ7BP5"
      }
    },
    {
      "cell_type": "code",
      "source": [
        "model = torch.hub.load('pytorch/vision:v0.10.0', 'resnet18', pretrained=True)\n",
        "model.fc = torch.nn.Identity()\n",
        "model.to(device)\n",
        "model.eval();"
      ],
      "metadata": {
        "id": "Oyly8nx9zaKz"
      },
      "execution_count": null,
      "outputs": []
    },
    {
      "cell_type": "code",
      "source": [
        "cars_dataset_final = defaultdict(dict)\n",
        "\n",
        "for images, labels, index in cars_dataloader:\n",
        "  with torch.no_grad():\n",
        "    images = images.to(device)\n",
        "    img_embedding = model(images)\n",
        "\n",
        "  for i, idx in enumerate(list(index.numpy())):\n",
        "    img_embedding = img_embedding.cpu()\n",
        "    cars_dataset_final[idx] = {'embedding': img_embedding[i], \n",
        "                        'class_idx': labels[i].item(),\n",
        "                        'labelled': 1} "
      ],
      "metadata": {
        "id": "oOhR13rrLfxa"
      },
      "execution_count": null,
      "outputs": []
    },
    {
      "cell_type": "code",
      "source": [
        "#Saving dataset to disk\n",
        "torch.save(cars_dataset_final, './cars_dataset_final.pth')"
      ],
      "metadata": {
        "id": "iIY5viqPsZk3"
      },
      "execution_count": null,
      "outputs": []
    },
    {
      "cell_type": "markdown",
      "source": [
        "## Task 4: Mask Cars Dataset"
      ],
      "metadata": {
        "id": "8hdMANgV7Zlm"
      }
    },
    {
      "cell_type": "code",
      "source": [
        "cars_dataset_final_unmasked = torch.load('./cars_dataset_final.pth')\n",
        "cars_dataset_masked = cars_dataset_final_unmasked.copy()"
      ],
      "metadata": {
        "id": "AcdSUsV-7laX"
      },
      "execution_count": null,
      "outputs": []
    },
    {
      "cell_type": "markdown",
      "source": [
        "Using the function developped in task 1, we mask 60% of the labels to limit ourselves to have only 40% of 'labelled' data for the sake of the exercise."
      ],
      "metadata": {
        "id": "Hscj66EI82Fz"
      }
    },
    {
      "cell_type": "code",
      "source": [
        "cars_dataset_labels = [v['class_idx'] for k, v in cars_dataset_final_unmasked.items()]\n",
        "cars_mask = label_masker(cars_dataset_labels, proportion = 0.6)\n",
        "\n",
        "for i in cars_mask['masked_indices']:\n",
        "  cars_dataset_masked[i]['class_idx'] = cars_mask['masked_labels'][i]\n",
        "  cars_dataset_masked[i]['labelled'] = 0"
      ],
      "metadata": {
        "id": "8N7fUcEutNQI"
      },
      "execution_count": null,
      "outputs": []
    },
    {
      "cell_type": "markdown",
      "source": [
        "## Task 5: Train/Validation split"
      ],
      "metadata": {
        "id": "G1nZTaHS7mG-"
      }
    },
    {
      "cell_type": "code",
      "source": [
        "def train_test_split(dataset_inputs, dataset_labels, training_proportion):\n",
        "  '''\n",
        "  Takes as input dataset_inputs, dataset_labels, and training_proportion \n",
        "  Returns training_inputs, training_labels, test_inputs, test_labels\n",
        "  '''\n",
        "\n",
        "  dataset_size = len(dataset_inputs)\n",
        "  indices = list(range(dataset_size))\n",
        "\n",
        "  split = int(dataset_size * training_proportion)\n",
        "  random.shuffle(indices)\n",
        "\n",
        "  train_idx, test_idx = indices[:split], indices[split:]\n",
        "\n",
        "  training_inputs = [dataset_inputs[i] for i in train_idx] \n",
        "  training_labels = [dataset_labels[i] for i in train_idx]\n",
        "  \n",
        "  test_inputs = [dataset_inputs[i] for i in test_idx] \n",
        "  test_labels = [dataset_labels[i] for i in test_idx]\n",
        "\n",
        "  return {\n",
        "     'training_inputs': training_inputs,\n",
        "     'training_labels': training_labels,\n",
        "     'test_inputs': test_inputs,\n",
        "     'test_labels': test_labels\n",
        "  }"
      ],
      "metadata": {
        "id": "HCYIFBiS7sbU"
      },
      "execution_count": null,
      "outputs": []
    },
    {
      "cell_type": "markdown",
      "source": [
        "## Task 6: Effect of labelled data on model performance"
      ],
      "metadata": {
        "id": "NYgjOddt72ak"
      }
    },
    {
      "cell_type": "code",
      "source": [
        "from sklearn import linear_model as lm\n",
        "from sklearn.metrics import accuracy_score"
      ],
      "metadata": {
        "id": "yrrgcIrs8Cp8"
      },
      "execution_count": null,
      "outputs": []
    },
    {
      "cell_type": "code",
      "source": [
        "# Isolate the 'labelled' (not masked) instances of the cars dataset\n",
        "labelled_cars_dataset = [v for k,v in cars_dataset_masked.items() if v['labelled'] == 1]\n",
        "\n",
        "cars_inputs = [i['embedding'].numpy() for i in labelled_cars_dataset]\n",
        "cars_labels = [i['class_idx'] for i in labelled_cars_dataset]"
      ],
      "metadata": {
        "id": "WXA-Tn_P6tFL"
      },
      "execution_count": null,
      "outputs": []
    },
    {
      "cell_type": "markdown",
      "source": [
        "Assuming that the client has at least some background knowlege in statistics. we will either show a set of box plots (client has limited background in statistics) or perform hypothesis testing (client has strong background in statistics). Either way, we'd want to demonstrate that the model performance improvement gained from adding more data is statistically significant.\n",
        "\n",
        "To achieve this, we will rerun the experiment 10 times for 2 sets of training proportions (50% and 75%) in the train validation split and evaluate the two population of accuracies for statistical significance. Ideally, we'd want to rerun the experiment at least 30 times for statistical significance, but it is not practical to do this with the time constraints. We can't even not use GPU acceleration to shorten the time as it's not supported by sklearn!\n",
        "\n",
        "Note: I've decided to run SGDClassifier with default parameters like loss = 'hinge' which uses SVMs. If more time was given, the better option is to use log loss and look at the top 5 classification accuracy. Since we have almost 200 balanced classes, top 5 accuracy will be a better measure as it's a more informative way to see how the model is learning. Unfortunately, SGDClassifier with log loss (logistic regression) is 3 times slower than with hinge loss (SVM) and is not practical given the time constraints."
      ],
      "metadata": {
        "id": "x7JICARB51gh"
      }
    },
    {
      "cell_type": "code",
      "source": [
        "# Training and evaluating model with 50% training data\n",
        "classifier50 = lm.SGDClassifier()\n",
        "\n",
        "accuracy_50 = []\n",
        "\n",
        "for i in range(10):\n",
        "  \n",
        "  #setting individual random seed for reproducibility\n",
        "  random.seed(i)\n",
        "\n",
        "  cars_train_test50 = train_test_split(cars_inputs, cars_labels, \n",
        "                                    training_proportion = 0.5)\n",
        "\n",
        "  cars_inputs50_train = cars_train_test50['training_inputs']\n",
        "  cars_labels50_train = cars_train_test50['training_labels']\n",
        "  cars_inputs50_test = cars_train_test50['test_inputs']\n",
        "  cars_labels50_test = cars_train_test50['test_labels']\n",
        "\n",
        "  classifier50.fit(cars_inputs50_train, cars_labels50_train)\n",
        "  y_pred50 = classifier50.predict(cars_inputs50_test)\n",
        "  accuracy_50.append(accuracy_score(cars_labels50_test, y_pred50))"
      ],
      "metadata": {
        "id": "nF26HtYc9fXI"
      },
      "execution_count": null,
      "outputs": []
    },
    {
      "cell_type": "code",
      "source": [
        "# Training and evaluating model with 75% training data\n",
        "classifier75 = lm.SGDClassifier()\n",
        "\n",
        "accuracy_75 = []\n",
        "\n",
        "for i in range(10):\n",
        "  random.seed(i)\n",
        "\n",
        "  cars_train_test75 = train_test_split(cars_inputs, cars_labels, \n",
        "                                    training_proportion = 0.75)\n",
        "\n",
        "  cars_inputs75_train = cars_train_test75['training_inputs']\n",
        "  cars_labels75_train = cars_train_test75['training_labels']\n",
        "  cars_inputs75_test = cars_train_test75['test_inputs']\n",
        "  cars_labels75_test = cars_train_test75['test_labels']\n",
        "\n",
        "  classifier75.fit(cars_inputs75_train, cars_labels75_train)\n",
        "  y_pred75 = classifier75.predict(cars_inputs75_test)\n",
        "  accuracy_75.append(accuracy_score(cars_labels75_test, y_pred75))"
      ],
      "metadata": {
        "id": "Run7iQmG9yXI"
      },
      "execution_count": null,
      "outputs": []
    },
    {
      "cell_type": "markdown",
      "source": [
        "We will now analyze the performance difference of increasing 25% training data"
      ],
      "metadata": {
        "id": "WyheXrs-uXpX"
      }
    },
    {
      "cell_type": "code",
      "source": [
        "import matplotlib.pyplot as plt\n",
        "from scipy.stats import ttest_ind  "
      ],
      "metadata": {
        "id": "EBJrJgf7ukpS"
      },
      "execution_count": null,
      "outputs": []
    },
    {
      "cell_type": "code",
      "source": [
        "fig, ax = plt.subplots()\n",
        "plt.title('Boxplot of model accuracy with 50% vs 75% training data');\n",
        "plt.xlabel('Model') \n",
        "plt.ylabel('Model Accuracy') \n",
        "ax.boxplot([accuracy_50,accuracy_75], labels = ['50%','75%']);"
      ],
      "metadata": {
        "colab": {
          "base_uri": "https://localhost:8080/",
          "height": 295
        },
        "id": "s9q-NY_TutiC",
        "outputId": "a38444d2-3b80-4f81-be62-1fd294050f3a"
      },
      "execution_count": null,
      "outputs": [
        {
          "output_type": "display_data",
          "data": {
            "text/plain": [
              "<Figure size 432x288 with 1 Axes>"
            ],
            "image/png": "[encoded data removed]"
          },
          "metadata": {
            "needs_background": "light"
          }
        }
      ]
    },
    {
      "cell_type": "markdown",
      "source": [
        "We can see from the boxplot that the mean accuracy of the model trained on 75% of the data is slightly higher than that trained on 50%. However, looking at the distributions, we can not immediately conclude that the difference is significant.\n",
        "\n",
        "Now let's perform a t-test to see if this difference is statistically significant."
      ],
      "metadata": {
        "id": "XxDY1uG9wk6F"
      }
    },
    {
      "cell_type": "code",
      "source": [
        "ttest = ttest_ind(accuracy_75, accuracy_50, alternative = 'greater')"
      ],
      "metadata": {
        "id": "u0C_qhR0w3bc"
      },
      "execution_count": null,
      "outputs": []
    },
    {
      "cell_type": "code",
      "source": [
        "print(\"The p-value is {:.2f}\".format(ttest.pvalue))"
      ],
      "metadata": {
        "colab": {
          "base_uri": "https://localhost:8080/"
        },
        "id": "ViuDEhl-x4fi",
        "outputId": "fa343427-fbfc-46f1-bfc1-21b417fec625"
      },
      "execution_count": null,
      "outputs": [
        {
          "output_type": "stream",
          "name": "stdout",
          "text": [
            "The p-value is 0.27\n"
          ]
        }
      ]
    },
    {
      "cell_type": "markdown",
      "source": [
        "Unfortunately, the improvement from using 75% vs 50% of training data is not statistically siginificant. This is due to the many issues previously mentioned at not having a large enough sample size (>30), using top-1 accuracy instead of top-5 accuracy. In addition, without finetuning the embedding and tuning the hyperparameters it is very diffcult for the model to learn. Notice that in both cases the accuracies obtain were hardly better than the accuracy of a random classifer (1/197 = 0.005)"
      ],
      "metadata": {
        "id": "HQTP1WUG4bM8"
      }
    },
    {
      "cell_type": "markdown",
      "source": [
        "## Task 7: Active learning"
      ],
      "metadata": {
        "id": "LXTKw0Dw8IMX"
      }
    },
    {
      "cell_type": "code",
      "source": [
        "from scipy.stats import entropy"
      ],
      "metadata": {
        "id": "osqHJJqA8OSX"
      },
      "execution_count": null,
      "outputs": []
    },
    {
      "cell_type": "markdown",
      "source": [
        "predict_proba() requires log loss output, we will retrain a new model with log as the loss function using the entire (40%) labelled data"
      ],
      "metadata": {
        "id": "_MFtO_zdVBYh"
      }
    },
    {
      "cell_type": "code",
      "source": [
        "classifier = lm.SGDClassifier(loss= 'log')\n",
        "classifier.fit(cars_inputs, cars_labels)"
      ],
      "metadata": {
        "colab": {
          "base_uri": "https://localhost:8080/"
        },
        "id": "lh6Fo9XFVcKA",
        "outputId": "6544bdd4-1cb3-4d43-f295-0949721acc6c"
      },
      "execution_count": null,
      "outputs": [
        {
          "output_type": "execute_result",
          "data": {
            "text/plain": [
              "SGDClassifier(loss='log')"
            ]
          },
          "metadata": {},
          "execution_count": 48
        }
      ]
    },
    {
      "cell_type": "markdown",
      "source": [
        "we will now isolate all the unlabelled images"
      ],
      "metadata": {
        "id": "SVRsm09VW6ln"
      }
    },
    {
      "cell_type": "code",
      "source": [
        "unlabelled_cars_dataset = [(k,v['embedding']) for k,v in cars_dataset_masked.items() \n",
        "                                                          if v['labelled'] == 0]\n",
        "\n",
        "unlabelled_cars_indices = [i[0] for i in unlabelled_cars_dataset]\n",
        "unlabelled_cars_inputs = [i[1].numpy() for i in unlabelled_cars_dataset]"
      ],
      "metadata": {
        "id": "2Fcf6wCGW5Ne"
      },
      "execution_count": null,
      "outputs": []
    },
    {
      "cell_type": "markdown",
      "source": [
        "Now we'll calculate the entropy of the image embedding and rank them in descending order"
      ],
      "metadata": {
        "id": "05rsBdD2XVuR"
      }
    },
    {
      "cell_type": "code",
      "source": [
        "y_prob = classifier.predict_proba(unlabelled_cars_inputs)\n",
        "\n",
        "image_entropy = [(i,entropy(p)) for i,p in zip(unlabelled_cars_indices, y_prob)]\n",
        "image_entropy_rank = sorted(image_entropy, key=lambda i: i[1],\n",
        "    reverse=True)"
      ],
      "metadata": {
        "id": "9p3yrk1BXk1n"
      },
      "execution_count": null,
      "outputs": []
    },
    {
      "cell_type": "markdown",
      "source": [
        "Now we take the top K images where the algorithms is most uncertain. Where K is 25% of the length of the orginal dataset (~4000)"
      ],
      "metadata": {
        "id": "DiwuKuMtc7Xt"
      }
    },
    {
      "cell_type": "code",
      "source": [
        "K = int(0.25*len(cars_dataset_masked.items()))\n",
        "\n",
        "images_to_label_indices = [i[0] for i in image_entropy_rank[:K]]"
      ],
      "metadata": {
        "id": "1Ldf8cc5ZmMa"
      },
      "execution_count": null,
      "outputs": []
    },
    {
      "cell_type": "markdown",
      "source": [
        "On a side note, looking at the entropy values show that our model performs poorly in general. As the median entropy is high (>3), showing that the model was unsure about most its predictions."
      ],
      "metadata": {
        "id": "1pArT_lZHHHs"
      }
    },
    {
      "cell_type": "code",
      "source": [
        "print(\"Median entropy: {:.2f}\".format(image_entropy_rank[int(len(image_entropy_rank)/2)][1]))"
      ],
      "metadata": {
        "colab": {
          "base_uri": "https://localhost:8080/"
        },
        "id": "I-08QP4jHZlR",
        "outputId": "95d89e0b-bc26-4025-be53-8434eec8d560"
      },
      "execution_count": 118,
      "outputs": [
        {
          "output_type": "stream",
          "name": "stdout",
          "text": [
            "Median entropy: 3.71\n"
          ]
        }
      ]
    },
    {
      "cell_type": "markdown",
      "source": [
        "Now we construct the final dataset"
      ],
      "metadata": {
        "id": "9zQK7pD1eV8E"
      }
    },
    {
      "cell_type": "code",
      "source": [
        "final_cars_dataset_masked = cars_dataset_masked.copy()\n",
        "\n",
        "for i in images_to_label_indices:\n",
        "  final_cars_dataset_masked[i]['class_idx'] = cars_mask['original_labels'][i]\n",
        "  final_cars_dataset_masked[i]['labelled'] = 1\n",
        "\n",
        "# Isolate the 'labelled' (not masked) instances of the cars dataset\n",
        "final_labelled_cars_dataset = [v for k,v in final_cars_dataset_masked.items()\n",
        "                                                       if v['labelled'] == 1]\n",
        "\n",
        "final_cars_inputs = [i['embedding'].numpy() for i in final_labelled_cars_dataset]\n",
        "final_cars_labels = [i['class_idx'] for i in final_labelled_cars_dataset]"
      ],
      "metadata": {
        "id": "BdMeHeeUdiii"
      },
      "execution_count": null,
      "outputs": []
    },
    {
      "cell_type": "markdown",
      "source": [
        "## Task 8: Final model training and evaluation"
      ],
      "metadata": {
        "id": "C2a-ybgk8Ms6"
      }
    },
    {
      "cell_type": "markdown",
      "source": [
        "For the final model, we will split the data using a classic 70/30 split for training and test. Given the time limitation, we won't experiment with new models and do hyper-parameter tuning. I will use the same set up used in Task 6."
      ],
      "metadata": {
        "id": "k-s-lFZlgY_q"
      }
    },
    {
      "cell_type": "code",
      "source": [
        "classifier_final = lm.SGDClassifier(loss = 'log')\n",
        "\n",
        "cars_final_train_test = train_test_split(final_cars_inputs, final_cars_labels, \n",
        "                                                    training_proportion = 0.7)\n",
        "\n",
        "cars_inputs_train_final = cars_final_train_test['training_inputs']\n",
        "cars_labels_train_final = cars_final_train_test['training_labels']\n",
        "cars_inputs_test_final = cars_final_train_test['test_inputs']\n",
        "cars_labels_test_final = cars_final_train_test['test_labels']\n",
        "\n",
        "classifier_final.fit(cars_inputs_train_final, cars_labels_train_final)\n",
        "y_pred_final = classifier_final.predict_proba(cars_inputs_test_final)"
      ],
      "metadata": {
        "id": "BOwom5ejgX5Y"
      },
      "execution_count": 111,
      "outputs": []
    },
    {
      "cell_type": "markdown",
      "source": [
        "Since we are only training one model, we can look at more metrics like top 5 accuracy to have a wholistic view of model performace"
      ],
      "metadata": {
        "id": "BOYLAi9OAa_-"
      }
    },
    {
      "cell_type": "code",
      "source": [
        "from sklearn.metrics import top_k_accuracy_score\n",
        "from sklearn.metrics import f1_score"
      ],
      "metadata": {
        "id": "kEO4EG8oAjMp"
      },
      "execution_count": 112,
      "outputs": []
    },
    {
      "cell_type": "code",
      "source": [
        "top_1_accuracy = top_k_accuracy_score(cars_labels_test_final, y_pred_final, k = 1)\n",
        "top_5_accuracy = top_k_accuracy_score(cars_labels_test_final, y_pred_final, k = 5)\n",
        "\n",
        "print(\"The top 5 accuracy is {:.3f}\".format(top_5_accuracy))\n",
        "print(\"The top 1 accuracy is {:.3f}\".format(top_1_accuracy))"
      ],
      "metadata": {
        "colab": {
          "base_uri": "https://localhost:8080/"
        },
        "id": "-fYUzbdP8XAj",
        "outputId": "d66af48d-602e-4919-cea6-199c0f3dd8bf"
      },
      "execution_count": 119,
      "outputs": [
        {
          "output_type": "stream",
          "name": "stdout",
          "text": [
            "The top 5 accuracy is 0.041\n",
            "The top 1 accuracy is 0.007\n"
          ]
        }
      ]
    },
    {
      "cell_type": "markdown",
      "source": [
        "The model performance is still poor (slightly higher than the random classifier accuracy of 0.005). Although the top 5 accuracy is significantly higher than that of a random classifier, showing that the model was still learning (albeit very slowly). In an a classical ML setting where better performance is the goal, I would definitely focus more on 1) finetuning the embedding model 2) Tuning hyperparameters."
      ],
      "metadata": {
        "id": "jnZzPfIzIUGY"
      }
    },
    {
      "cell_type": "markdown",
      "source": [
        "Given the contraints of the exercise, we are unable to determine if labelling more data was the right decision since our model suffers from poor performance due to other issues (no finetuning, no hyperparameter tuning, etc).\n",
        "\n",
        "In general, having more labelled data will always have a positive effect on model performance (it certainly won't make the model perform worse). However, the decision to label more instances can not be decided from just the machine-learning perspective. It depends on a number of factors such as the what the desired model performance is (not simply higher is better), the cost of labelling, etc. A detailed cost-benefit analysis will need to be done together with the client to make the decision of labelling more instances or not."
      ],
      "metadata": {
        "id": "OvFRcjK6BA5_"
      }
    }
  ]
}